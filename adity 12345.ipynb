{
 "cells": [
  {
   "cell_type": "code",
   "execution_count": 2,
   "id": "90240cf4",
   "metadata": {},
   "outputs": [],
   "source": [
    "list = [\"aditya\",\"car\",\"money\",\"watch\",\"bike\",\"collage\"]"
   ]
  },
  {
   "cell_type": "code",
   "execution_count": 3,
   "id": "b50b4638",
   "metadata": {},
   "outputs": [
    {
     "data": {
      "text/plain": [
       "['aditya', 'car', 'money', 'watch', 'bike', 'collage']"
      ]
     },
     "execution_count": 3,
     "metadata": {},
     "output_type": "execute_result"
    }
   ],
   "source": [
    "list"
   ]
  },
  {
   "cell_type": "code",
   "execution_count": 4,
   "id": "25826ee2",
   "metadata": {},
   "outputs": [],
   "source": [
    "a = (\"a\",\"b\",\"c\",\"d\",\"e\",\"f\",\"g\",\"h\",\"i\")"
   ]
  },
  {
   "cell_type": "code",
   "execution_count": 5,
   "id": "9c6651ee",
   "metadata": {},
   "outputs": [
    {
     "data": {
      "text/plain": [
       "('a', 'b', 'c', 'd', 'e', 'f', 'g', 'h', 'i')"
      ]
     },
     "execution_count": 5,
     "metadata": {},
     "output_type": "execute_result"
    }
   ],
   "source": [
    "a"
   ]
  },
  {
   "cell_type": "code",
   "execution_count": 6,
   "id": "6ae1e1d1",
   "metadata": {},
   "outputs": [],
   "source": [
    "b = {1,2,3,4,5,6,7,8,9,10}"
   ]
  },
  {
   "cell_type": "code",
   "execution_count": 7,
   "id": "6dba7a6c",
   "metadata": {},
   "outputs": [
    {
     "data": {
      "text/plain": [
       "{1, 2, 3, 4, 5, 6, 7, 8, 9, 10}"
      ]
     },
     "execution_count": 7,
     "metadata": {},
     "output_type": "execute_result"
    }
   ],
   "source": [
    "b"
   ]
  },
  {
   "cell_type": "code",
   "execution_count": 8,
   "id": "9947628b",
   "metadata": {},
   "outputs": [],
   "source": [
    "set = {1,2,3,4,5,6,7,8,9,10}"
   ]
  },
  {
   "cell_type": "code",
   "execution_count": 9,
   "id": "16f80dcf",
   "metadata": {},
   "outputs": [],
   "source": [
    "dic = {\"key\":\"value\",\"key1\":\"value2\",\"key\":\"value2\"}"
   ]
  },
  {
   "cell_type": "code",
   "execution_count": 15,
   "id": "b06f4e68",
   "metadata": {},
   "outputs": [],
   "source": [
    "aditya = {\"name\":\"aditya\",\"email_id\":\"aditya.zingade20@gmail.com\",\"collage\":\"kmic\",\"place\":\"hyderabad\"}"
   ]
  },
  {
   "cell_type": "code",
   "execution_count": 16,
   "id": "f135fb2d",
   "metadata": {},
   "outputs": [
    {
     "data": {
      "text/plain": [
       "{'name': 'aditya',\n",
       " 'email_id': 'aditya.zingade20@gmail.com',\n",
       " 'collage': 'kmic',\n",
       " 'place': 'hyderabad'}"
      ]
     },
     "execution_count": 16,
     "metadata": {},
     "output_type": "execute_result"
    }
   ],
   "source": [
    "aditya"
   ]
  },
  {
   "cell_type": "code",
   "execution_count": 22,
   "id": "c2021b55",
   "metadata": {},
   "outputs": [
    {
     "data": {
      "text/plain": [
       "dict_values(['aditya', 'aditya.zingade20@gmail.com', 'kmic', 'hyderabad'])"
      ]
     },
     "execution_count": 22,
     "metadata": {},
     "output_type": "execute_result"
    }
   ],
   "source": [
    "aditya.values()"
   ]
  },
  {
   "cell_type": "code",
   "execution_count": 23,
   "id": "f3b31a7d",
   "metadata": {},
   "outputs": [
    {
     "data": {
      "text/plain": [
       "<function dict.values>"
      ]
     },
     "execution_count": 23,
     "metadata": {},
     "output_type": "execute_result"
    }
   ],
   "source": [
    "aditya.values"
   ]
  },
  {
   "cell_type": "code",
   "execution_count": 24,
   "id": "e7b08d92",
   "metadata": {},
   "outputs": [
    {
     "data": {
      "text/plain": [
       "dict"
      ]
     },
     "execution_count": 24,
     "metadata": {},
     "output_type": "execute_result"
    }
   ],
   "source": [
    "type(aditya)"
   ]
  },
  {
   "cell_type": "code",
   "execution_count": 26,
   "id": "7a8e5c9b",
   "metadata": {},
   "outputs": [],
   "source": [
    "aditya[0] = \"jay\""
   ]
  },
  {
   "cell_type": "code",
   "execution_count": 27,
   "id": "704631e5",
   "metadata": {},
   "outputs": [
    {
     "data": {
      "text/plain": [
       "{'name': 'aditya',\n",
       " 'email_id': 'aditya.zingade20@gmail.com',\n",
       " 'collage': 'kmic',\n",
       " 'place': 'hyderabad',\n",
       " 0: 'jay'}"
      ]
     },
     "execution_count": 27,
     "metadata": {},
     "output_type": "execute_result"
    }
   ],
   "source": [
    "aditya"
   ]
  },
  {
   "cell_type": "code",
   "execution_count": 28,
   "id": "f97f4726",
   "metadata": {},
   "outputs": [],
   "source": [
    "aditya[1] = \"karthik\""
   ]
  },
  {
   "cell_type": "code",
   "execution_count": 29,
   "id": "89a97b8c",
   "metadata": {},
   "outputs": [
    {
     "data": {
      "text/plain": [
       "{'name': 'aditya',\n",
       " 'email_id': 'aditya.zingade20@gmail.com',\n",
       " 'collage': 'kmic',\n",
       " 'place': 'hyderabad',\n",
       " 0: 'jay',\n",
       " 1: 'karthik'}"
      ]
     },
     "execution_count": 29,
     "metadata": {},
     "output_type": "execute_result"
    }
   ],
   "source": [
    "aditya"
   ]
  },
  {
   "cell_type": "code",
   "execution_count": 30,
   "id": "1b37d681",
   "metadata": {},
   "outputs": [],
   "source": [
    "aditya[2] = \"shiva\""
   ]
  },
  {
   "cell_type": "code",
   "execution_count": 31,
   "id": "08c88dc4",
   "metadata": {},
   "outputs": [
    {
     "data": {
      "text/plain": [
       "{'name': 'aditya',\n",
       " 'email_id': 'aditya.zingade20@gmail.com',\n",
       " 'collage': 'kmic',\n",
       " 'place': 'hyderabad',\n",
       " 0: 'jay',\n",
       " 1: 'karthik',\n",
       " 2: 'shiva'}"
      ]
     },
     "execution_count": 31,
     "metadata": {},
     "output_type": "execute_result"
    }
   ],
   "source": [
    "aditya"
   ]
  },
  {
   "cell_type": "code",
   "execution_count": 33,
   "id": "51723916",
   "metadata": {},
   "outputs": [],
   "source": [
    "aditya [3] = \"uday\""
   ]
  },
  {
   "cell_type": "code",
   "execution_count": 34,
   "id": "622a6f90",
   "metadata": {},
   "outputs": [
    {
     "data": {
      "text/plain": [
       "{'name': 'aditya',\n",
       " 'email_id': 'aditya.zingade20@gmail.com',\n",
       " 'collage': 'kmic',\n",
       " 'place': 'hyderabad',\n",
       " 0: 'jay',\n",
       " 1: 'karthik',\n",
       " 2: 'shiva',\n",
       " 3: 'uday'}"
      ]
     },
     "execution_count": 34,
     "metadata": {},
     "output_type": "execute_result"
    }
   ],
   "source": [
    "aditya"
   ]
  },
  {
   "cell_type": "code",
   "execution_count": 35,
   "id": "39ea3a8b",
   "metadata": {},
   "outputs": [],
   "source": [
    "aditya [4] = \"rohit\""
   ]
  },
  {
   "cell_type": "code",
   "execution_count": 36,
   "id": "fcd2e058",
   "metadata": {},
   "outputs": [
    {
     "data": {
      "text/plain": [
       "{'name': 'aditya',\n",
       " 'email_id': 'aditya.zingade20@gmail.com',\n",
       " 'collage': 'kmic',\n",
       " 'place': 'hyderabad',\n",
       " 0: 'jay',\n",
       " 1: 'karthik',\n",
       " 2: 'shiva',\n",
       " 3: 'uday',\n",
       " 4: 'rohit'}"
      ]
     },
     "execution_count": 36,
     "metadata": {},
     "output_type": "execute_result"
    }
   ],
   "source": [
    "aditya"
   ]
  },
  {
   "cell_type": "code",
   "execution_count": 37,
   "id": "4eecff03",
   "metadata": {},
   "outputs": [],
   "source": [
    "aditya [5] = \"narsing\""
   ]
  },
  {
   "cell_type": "code",
   "execution_count": 38,
   "id": "c8a28e0b",
   "metadata": {},
   "outputs": [
    {
     "data": {
      "text/plain": [
       "{'name': 'aditya',\n",
       " 'email_id': 'aditya.zingade20@gmail.com',\n",
       " 'collage': 'kmic',\n",
       " 'place': 'hyderabad',\n",
       " 0: 'jay',\n",
       " 1: 'karthik',\n",
       " 2: 'shiva',\n",
       " 3: 'uday',\n",
       " 4: 'rohit',\n",
       " 5: 'narsing'}"
      ]
     },
     "execution_count": 38,
     "metadata": {},
     "output_type": "execute_result"
    }
   ],
   "source": [
    "aditya"
   ]
  },
  {
   "cell_type": "code",
   "execution_count": 39,
   "id": "13b525ac",
   "metadata": {},
   "outputs": [],
   "source": [
    "aditya [6] = \"vivek\""
   ]
  },
  {
   "cell_type": "code",
   "execution_count": 40,
   "id": "cd221997",
   "metadata": {},
   "outputs": [
    {
     "data": {
      "text/plain": [
       "{'name': 'aditya',\n",
       " 'email_id': 'aditya.zingade20@gmail.com',\n",
       " 'collage': 'kmic',\n",
       " 'place': 'hyderabad',\n",
       " 0: 'jay',\n",
       " 1: 'karthik',\n",
       " 2: 'shiva',\n",
       " 3: 'uday',\n",
       " 4: 'rohit',\n",
       " 5: 'narsing',\n",
       " 6: 'vivek'}"
      ]
     },
     "execution_count": 40,
     "metadata": {},
     "output_type": "execute_result"
    }
   ],
   "source": [
    "aditya"
   ]
  },
  {
   "cell_type": "code",
   "execution_count": 41,
   "id": "1b28b90d",
   "metadata": {},
   "outputs": [],
   "source": [
    "t = (\"aditya\",\"collage\",\"car\",\"book\",\"bike\")"
   ]
  },
  {
   "cell_type": "code",
   "execution_count": 43,
   "id": "e6d874a2",
   "metadata": {},
   "outputs": [
    {
     "ename": "TypeError",
     "evalue": "'tuple' object does not support item assignment",
     "output_type": "error",
     "traceback": [
      "\u001b[1;31m---------------------------------------------------------------------------\u001b[0m",
      "\u001b[1;31mTypeError\u001b[0m                                 Traceback (most recent call last)",
      "Cell \u001b[1;32mIn[43], line 1\u001b[0m\n\u001b[1;32m----> 1\u001b[0m t[\u001b[38;5;241m0\u001b[39m]\u001b[38;5;241m=\u001b[39m \u001b[38;5;124m\"\u001b[39m\u001b[38;5;124mram\u001b[39m\u001b[38;5;124m\"\u001b[39m\n",
      "\u001b[1;31mTypeError\u001b[0m: 'tuple' object does not support item assignment"
     ]
    }
   ],
   "source": [
    "t[0]= \"ram\""
   ]
  },
  {
   "cell_type": "code",
   "execution_count": 44,
   "id": "3d4bf06b",
   "metadata": {},
   "outputs": [],
   "source": [
    "f = open(\"aditya.txt\",\"w\")"
   ]
  },
  {
   "cell_type": "code",
   "execution_count": 45,
   "id": "55bb5ac9",
   "metadata": {},
   "outputs": [
    {
     "data": {
      "text/plain": [
       "<_io.TextIOWrapper name='aditya.txt' mode='w' encoding='cp1252'>"
      ]
     },
     "execution_count": 45,
     "metadata": {},
     "output_type": "execute_result"
    }
   ],
   "source": [
    "f"
   ]
  },
  {
   "cell_type": "code",
   "execution_count": 10,
   "id": "cbc41471",
   "metadata": {},
   "outputs": [
    {
     "ename": "NameError",
     "evalue": "name 'f' is not defined",
     "output_type": "error",
     "traceback": [
      "\u001b[1;31m---------------------------------------------------------------------------\u001b[0m",
      "\u001b[1;31mNameError\u001b[0m                                 Traceback (most recent call last)",
      "Cell \u001b[1;32mIn[10], line 1\u001b[0m\n\u001b[1;32m----> 1\u001b[0m \u001b[43mf\u001b[49m\u001b[38;5;241m.\u001b[39mwrite(\u001b[38;5;124m\"\u001b[39m\u001b[38;5;124mthis is my first file writen in jupyter notebook on 1-april 1-2023\u001b[39m\u001b[38;5;124m\"\u001b[39m)\n",
      "\u001b[1;31mNameError\u001b[0m: name 'f' is not defined"
     ]
    }
   ],
   "source": [
    "f.write(\"this is my first file writen in jupyter notebook on 1-april 1-2023\")"
   ]
  },
  {
   "cell_type": "code",
   "execution_count": 1,
   "id": "985f6f64",
   "metadata": {},
   "outputs": [],
   "source": [
    "# CONDITIONS"
   ]
  },
  {
   "cell_type": "code",
   "execution_count": 2,
   "id": "efe6ef9d",
   "metadata": {},
   "outputs": [
    {
     "ename": "SyntaxError",
     "evalue": "invalid syntax (458441323.py, line 4)",
     "output_type": "error",
     "traceback": [
      "\u001b[1;36m  Cell \u001b[1;32mIn[2], line 4\u001b[1;36m\u001b[0m\n\u001b[1;33m    statement1:\u001b[0m\n\u001b[1;37m               ^\u001b[0m\n\u001b[1;31mSyntaxError\u001b[0m\u001b[1;31m:\u001b[0m invalid syntax\n"
     ]
    }
   ],
   "source": [
    "if condition:\n",
    "    ststement\n",
    "elif condition1:\n",
    "    statement1:\n",
    "elif condition2:\n",
    "     statement2\n",
    "elif condition3:\n",
    "    statement3\n",
    "else:\n",
    "    end the statement"
   ]
  },
  {
   "cell_type": "code",
   "execution_count": 3,
   "id": "18da0c99",
   "metadata": {},
   "outputs": [
    {
     "name": "stdout",
     "output_type": "stream",
     "text": [
      "20\n"
     ]
    }
   ],
   "source": [
    "a = 10\n",
    "b = 20\n",
    "c = a+b\n",
    "if a >b:\n",
    "    print(c)\n",
    "elif a<b:\n",
    "    print(b)\n",
    "elif a!=b:\n",
    "    print(c)\n",
    "else:\n",
    "    print(\"enter the value\")"
   ]
  },
  {
   "cell_type": "code",
   "execution_count": 4,
   "id": "7844ece5",
   "metadata": {},
   "outputs": [
    {
     "name": "stdout",
     "output_type": "stream",
     "text": [
      "30\n"
     ]
    }
   ],
   "source": [
    "car = 20\n",
    "bike = 30\n",
    "jcb = car+bike\n",
    "if car>bike:\n",
    "    print(jcb)\n",
    "elif car<bike:\n",
    "    print(bike)\n",
    "elif car!=bike:\n",
    "    print (jcb)\n",
    "else:\n",
    "    print(\"enter the value\")"
   ]
  },
  {
   "cell_type": "code",
   "execution_count": 5,
   "id": "cc5e2d79",
   "metadata": {},
   "outputs": [
    {
     "name": "stdout",
     "output_type": "stream",
     "text": [
      "b is grt than a\n"
     ]
    }
   ],
   "source": [
    "a = 10\n",
    "b= 20\n",
    "if a>b:\n",
    "    print(\"a is grt than b\")    \n",
    "elif b>a:\n",
    "    print(\"b is grt than a\")"
   ]
  },
  {
   "cell_type": "markdown",
   "id": "61031e03",
   "metadata": {},
   "source": []
  },
  {
   "cell_type": "code",
   "execution_count": 31,
   "id": "fb2de469",
   "metadata": {},
   "outputs": [
    {
     "name": "stdout",
     "output_type": "stream",
     "text": [
      " 11110\n"
     ]
    }
   ],
   "source": [
    "number = 10 \n",
    "a = f\"{number : 020b}\"\n",
    "print (b)"
   ]
  },
  {
   "cell_type": "code",
   "execution_count": 25,
   "id": "080b495c",
   "metadata": {},
   "outputs": [
    {
     "name": "stdout",
     "output_type": "stream",
     "text": [
      " 11110\n"
     ]
    }
   ],
   "source": [
    "number2 = 30\n",
    "b= f\"{number2: 0b}\"\n",
    "print(b)"
   ]
  },
  {
   "cell_type": "code",
   "execution_count": 17,
   "id": "eb3e2cb5",
   "metadata": {},
   "outputs": [
    {
     "name": "stdout",
     "output_type": "stream",
     "text": [
      " 11110\n"
     ]
    }
   ],
   "source": [
    "number3 = 30\n",
    "c = f\"{number : 0b}\"\n",
    "print(b)"
   ]
  },
  {
   "cell_type": "code",
   "execution_count": 21,
   "id": "c7289a25",
   "metadata": {},
   "outputs": [
    {
     "name": "stdout",
     "output_type": "stream",
     "text": [
      " 11110\n"
     ]
    }
   ],
   "source": [
    "number4 = 40\n",
    "c= f\"{number : 1b}\"\n",
    "print(b)"
   ]
  },
  {
   "cell_type": "code",
   "execution_count": null,
   "id": "8608d86b",
   "metadata": {},
   "outputs": [],
   "source": []
  }
 ],
 "metadata": {
  "kernelspec": {
   "display_name": "Python 3 (ipykernel)",
   "language": "python",
   "name": "python3"
  },
  "language_info": {
   "codemirror_mode": {
    "name": "ipython",
    "version": 3
   },
   "file_extension": ".py",
   "mimetype": "text/x-python",
   "name": "python",
   "nbconvert_exporter": "python",
   "pygments_lexer": "ipython3",
   "version": "3.10.9"
  }
 },
 "nbformat": 4,
 "nbformat_minor": 5
}
